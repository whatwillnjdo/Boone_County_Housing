{
 "cells": [
  {
   "cell_type": "code",
   "execution_count": 1,
   "metadata": {},
   "outputs": [],
   "source": [
    "import pandas as pd\n",
    "import csv\n",
    "import quandl"
   ]
  },
  {
   "cell_type": "code",
   "execution_count": 2,
   "metadata": {},
   "outputs": [],
   "source": [
    "from config import Q_API_KEY\n",
    "quandl.ApiConfig.api_key = Q_API_KEY"
   ]
  },
  {
   "cell_type": "code",
   "execution_count": 3,
   "metadata": {},
   "outputs": [],
   "source": [
    "#ZILLOW/Z46075_MLP3B\n",
    "zip_46075_3B = quandl.get(\"ZILLOW/Z46075_MLP3B\")\n",
    "zip_46075_3B_df = pd.DataFrame(zip_46075_3B)\n",
    "zip_46075_3B_df1 = zip_46075_3B_df.rename(columns={\"Value\":\"Median Price 3 Bedrooms\"})"
   ]
  },
  {
   "cell_type": "code",
   "execution_count": 4,
   "metadata": {},
   "outputs": [
    {
     "data": {
      "text/html": [
       "<div>\n",
       "<style scoped>\n",
       "    .dataframe tbody tr th:only-of-type {\n",
       "        vertical-align: middle;\n",
       "    }\n",
       "\n",
       "    .dataframe tbody tr th {\n",
       "        vertical-align: top;\n",
       "    }\n",
       "\n",
       "    .dataframe thead th {\n",
       "        text-align: right;\n",
       "    }\n",
       "</style>\n",
       "<table border=\"1\" class=\"dataframe\">\n",
       "  <thead>\n",
       "    <tr style=\"text-align: right;\">\n",
       "      <th></th>\n",
       "      <th>Median Price 3 Bedrooms</th>\n",
       "    </tr>\n",
       "    <tr>\n",
       "      <th>Date</th>\n",
       "      <th></th>\n",
       "    </tr>\n",
       "  </thead>\n",
       "  <tbody>\n",
       "    <tr>\n",
       "      <th>2018-01-31</th>\n",
       "      <td>211990.0</td>\n",
       "    </tr>\n",
       "    <tr>\n",
       "      <th>2018-02-28</th>\n",
       "      <td>197000.0</td>\n",
       "    </tr>\n",
       "    <tr>\n",
       "      <th>2018-03-31</th>\n",
       "      <td>194900.0</td>\n",
       "    </tr>\n",
       "    <tr>\n",
       "      <th>2018-04-30</th>\n",
       "      <td>194900.0</td>\n",
       "    </tr>\n",
       "    <tr>\n",
       "      <th>2018-05-31</th>\n",
       "      <td>199838.5</td>\n",
       "    </tr>\n",
       "  </tbody>\n",
       "</table>\n",
       "</div>"
      ],
      "text/plain": [
       "            Median Price 3 Bedrooms\n",
       "Date                               \n",
       "2018-01-31                 211990.0\n",
       "2018-02-28                 197000.0\n",
       "2018-03-31                 194900.0\n",
       "2018-04-30                 194900.0\n",
       "2018-05-31                 199838.5"
      ]
     },
     "execution_count": 4,
     "metadata": {},
     "output_type": "execute_result"
    }
   ],
   "source": [
    "zip_46075_3B_df1.head()"
   ]
  },
  {
   "cell_type": "code",
   "execution_count": 5,
   "metadata": {},
   "outputs": [],
   "source": [
    "#ZILLOW/Z46075_ZHVI2B\n",
    "zip_46075_2B = quandl.get(\"ZILLOW/Z46075_ZHVI2B\")\n",
    "zip_46075_2B_df = pd.DataFrame(zip_46075_2B)\n",
    "zip_46075_2B_df1 = zip_46075_2B_df.rename(columns={\"Value\":\"Median Price 2 Bedrooms\"})"
   ]
  },
  {
   "cell_type": "code",
   "execution_count": 6,
   "metadata": {},
   "outputs": [],
   "source": [
    "#### ZILLOW/Z46075_MLP4B\n",
    "zip_46075_4B = quandl.get(\"ZILLOW/Z46075_MLP4B\")\n",
    "zip_46075_4B_df = pd.DataFrame(zip_46075_4B)\n",
    "zip_46075_4B_df1 = zip_46075_4B_df.rename(columns={\"Value\":\"Median Price 4 Bedrooms\"})"
   ]
  },
  {
   "cell_type": "code",
   "execution_count": 10,
   "metadata": {},
   "outputs": [],
   "source": [
    "zip_46075_5B = quandl.get(\"ZILLOW/Z46075_ZHVI5B\")\n",
    "zip_46075_5B_df = pd.DataFrame(zip_46075_5B)\n",
    "zip_46075_5B_df1 = zip_46075_5B_df.rename(columns={\"Value\":\"Median Price 5+ Bedrooms\"})"
   ]
  },
  {
   "cell_type": "code",
   "execution_count": 9,
   "metadata": {},
   "outputs": [],
   "source": [
    "#Value : Median Market Value (Single Family)\n",
    "zip_46075_SF = quandl.get(\"ZILLOW/Z46075_ZHVISF\")\n",
    "zip_46075_SF_df = pd.DataFrame(zip_46075_SF)\n",
    "zip_46075_SF_df1 = zip_46075_SF_df.rename(columns={\"Value\":\"Median Market Value (Single Family)\"})\n",
    "\n",
    "#Value : Median List Price\n",
    "zip_46075_median_listprice = quandl.get(\"ZILLOW/Z46075_MLPSF\")\n",
    "zip_46075_median_listprice_df = pd.DataFrame(zip_46075_median_listprice)\n",
    "zip_46075_median_listprice_df1 = zip_46075_median_listprice_df.rename(columns={\"Value\":\"Median List Price\"})\n",
    "\n",
    "#Value : Median List Price per Square Foot\n",
    "zip_46075_median_squarefoot = quandl.get(\"ZILLOW/Z46075_MLPFSF\")\n",
    "zip_46075_median_squarefoot_df = pd.DataFrame(zip_46075_median_squarefoot)\n",
    "zip_46075_median_squarefoot_df1 = zip_46075_median_squarefoot_df.rename(columns={\"Value\":\"Median List Price per Square Foot\"})"
   ]
  },
  {
   "cell_type": "code",
   "execution_count": 12,
   "metadata": {},
   "outputs": [],
   "source": [
    "dfs = [zip_46075_3B_df1, zip_46075_2B_df1, zip_46075_4B_df1, zip_46075_5B_df1, zip_46075_SF_df1,\n",
    "      zip_46075_median_listprice_df1, zip_46075_median_squarefoot_df1]"
   ]
  },
  {
   "cell_type": "code",
   "execution_count": 13,
   "metadata": {},
   "outputs": [
    {
     "data": {
      "text/html": [
       "<div>\n",
       "<style scoped>\n",
       "    .dataframe tbody tr th:only-of-type {\n",
       "        vertical-align: middle;\n",
       "    }\n",
       "\n",
       "    .dataframe tbody tr th {\n",
       "        vertical-align: top;\n",
       "    }\n",
       "\n",
       "    .dataframe thead th {\n",
       "        text-align: right;\n",
       "    }\n",
       "</style>\n",
       "<table border=\"1\" class=\"dataframe\">\n",
       "  <thead>\n",
       "    <tr style=\"text-align: right;\">\n",
       "      <th></th>\n",
       "      <th>Median Price 3 Bedrooms</th>\n",
       "      <th>Median Price 2 Bedrooms</th>\n",
       "      <th>Median Price 4 Bedrooms</th>\n",
       "      <th>Median Price 5+ Bedrooms</th>\n",
       "      <th>Median Market Value (Single Family)</th>\n",
       "      <th>Median List Price</th>\n",
       "      <th>Median List Price per Square Foot</th>\n",
       "    </tr>\n",
       "    <tr>\n",
       "      <th>Date</th>\n",
       "      <th></th>\n",
       "      <th></th>\n",
       "      <th></th>\n",
       "      <th></th>\n",
       "      <th></th>\n",
       "      <th></th>\n",
       "      <th></th>\n",
       "    </tr>\n",
       "  </thead>\n",
       "  <tbody>\n",
       "    <tr>\n",
       "      <th>2017-11-30</th>\n",
       "      <td>NaN</td>\n",
       "      <td>189161.0</td>\n",
       "      <td>273490.0</td>\n",
       "      <td>300329.0</td>\n",
       "      <td>210947.0</td>\n",
       "      <td>224900.0</td>\n",
       "      <td>101.289474</td>\n",
       "    </tr>\n",
       "    <tr>\n",
       "      <th>2017-12-31</th>\n",
       "      <td>NaN</td>\n",
       "      <td>190477.0</td>\n",
       "      <td>271275.0</td>\n",
       "      <td>300699.0</td>\n",
       "      <td>212352.0</td>\n",
       "      <td>235000.0</td>\n",
       "      <td>100.982764</td>\n",
       "    </tr>\n",
       "    <tr>\n",
       "      <th>2020-01-31</th>\n",
       "      <td>NaN</td>\n",
       "      <td>215686.0</td>\n",
       "      <td>NaN</td>\n",
       "      <td>334908.0</td>\n",
       "      <td>240486.0</td>\n",
       "      <td>NaN</td>\n",
       "      <td>NaN</td>\n",
       "    </tr>\n",
       "    <tr>\n",
       "      <th>2020-02-29</th>\n",
       "      <td>NaN</td>\n",
       "      <td>215695.0</td>\n",
       "      <td>NaN</td>\n",
       "      <td>335613.0</td>\n",
       "      <td>241295.0</td>\n",
       "      <td>NaN</td>\n",
       "      <td>NaN</td>\n",
       "    </tr>\n",
       "    <tr>\n",
       "      <th>2020-03-31</th>\n",
       "      <td>NaN</td>\n",
       "      <td>215865.0</td>\n",
       "      <td>NaN</td>\n",
       "      <td>336616.0</td>\n",
       "      <td>242364.0</td>\n",
       "      <td>NaN</td>\n",
       "      <td>NaN</td>\n",
       "    </tr>\n",
       "  </tbody>\n",
       "</table>\n",
       "</div>"
      ],
      "text/plain": [
       "            Median Price 3 Bedrooms  Median Price 2 Bedrooms  \\\n",
       "Date                                                           \n",
       "2017-11-30                      NaN                 189161.0   \n",
       "2017-12-31                      NaN                 190477.0   \n",
       "2020-01-31                      NaN                 215686.0   \n",
       "2020-02-29                      NaN                 215695.0   \n",
       "2020-03-31                      NaN                 215865.0   \n",
       "\n",
       "            Median Price 4 Bedrooms  Median Price 5+ Bedrooms  \\\n",
       "Date                                                            \n",
       "2017-11-30                 273490.0                  300329.0   \n",
       "2017-12-31                 271275.0                  300699.0   \n",
       "2020-01-31                      NaN                  334908.0   \n",
       "2020-02-29                      NaN                  335613.0   \n",
       "2020-03-31                      NaN                  336616.0   \n",
       "\n",
       "            Median Market Value (Single Family)  Median List Price  \\\n",
       "Date                                                                 \n",
       "2017-11-30                             210947.0           224900.0   \n",
       "2017-12-31                             212352.0           235000.0   \n",
       "2020-01-31                             240486.0                NaN   \n",
       "2020-02-29                             241295.0                NaN   \n",
       "2020-03-31                             242364.0                NaN   \n",
       "\n",
       "            Median List Price per Square Foot  \n",
       "Date                                           \n",
       "2017-11-30                         101.289474  \n",
       "2017-12-31                         100.982764  \n",
       "2020-01-31                                NaN  \n",
       "2020-02-29                                NaN  \n",
       "2020-03-31                                NaN  "
      ]
     },
     "execution_count": 13,
     "metadata": {},
     "output_type": "execute_result"
    }
   ],
   "source": [
    "#combine dataframes\n",
    "from functools import reduce\n",
    "zip46075 = reduce(lambda left,right: pd.merge(left,right,on='Date', how='outer'), dfs)\n",
    "zip46075.tail()"
   ]
  },
  {
   "cell_type": "code",
   "execution_count": null,
   "metadata": {},
   "outputs": [],
   "source": []
  }
 ],
 "metadata": {
  "kernelspec": {
   "display_name": "Python 3",
   "language": "python",
   "name": "python3"
  },
  "language_info": {
   "codemirror_mode": {
    "name": "ipython",
    "version": 3
   },
   "file_extension": ".py",
   "mimetype": "text/x-python",
   "name": "python",
   "nbconvert_exporter": "python",
   "pygments_lexer": "ipython3",
   "version": "3.7.6"
  }
 },
 "nbformat": 4,
 "nbformat_minor": 4
}
